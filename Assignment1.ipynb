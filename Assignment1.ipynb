{
 "cells": [
  {
   "cell_type": "markdown",
   "id": "9f51907f-af5f-4ca2-ac53-698a6ab60da7",
   "metadata": {
    "tags": []
   },
   "source": [
    "### **Q1 Q1. Create one variable containing following type of data:**\n",
    "#### **(i) string**\n",
    "#### **(ii) list**\n",
    "#### **(iii) float**\n",
    "#### **(iv) tuple**"
   ]
  },
  {
   "cell_type": "code",
   "execution_count": null,
   "id": "43b0a590-f20a-493c-a616-3c23a07e5b48",
   "metadata": {},
   "outputs": [],
   "source": [
    "#Ans\n",
    "s = 'Hi I am Arth an aspiring data scientist' #string variable\n",
    "l = [1,5.3,True,\"quantum physics\",[34],(\"char\")] #lilst variable\n",
    "f = 43432.5894 #float varibale\n",
    "t = (4,3.43,[(43)],\"3rfl;;'hrw:\",False) #tupple variable\n",
    "\n"
   ]
  },
  {
   "cell_type": "markdown",
   "id": "6ccc4ba0-bd46-4b23-b189-a6bb1b82646c",
   "metadata": {
    "tags": []
   },
   "source": [
    "### **Q2. Given are some following variables containing data:**\n",
    "#### **(i) var1 = ‘ ‘**\n",
    "#### **(ii) var2 = ‘[ DS , ML , Python]’**\n",
    "#### **(iii) var3 = [ ‘DS’ , ’ML’ , ‘Python’ ]**\n",
    "#### **(iv) var4 = 1.**\n",
    "#### **What will be the data type of the above given variable.**"
   ]
  },
  {
   "cell_type": "markdown",
   "id": "94be2abb-a0d5-4e9d-9a7f-13bb671c44be",
   "metadata": {},
   "source": [
    "### Ans\n",
    "#### (i) String\n",
    "#### (ii) String\n",
    "#### (iii) list\n",
    "#### (iv) integer\n",
    "\n"
   ]
  },
  {
   "cell_type": "markdown",
   "id": "51367781-0c60-4520-9ef9-adf27e97a9b3",
   "metadata": {},
   "source": [
    "### **Q3. Explain the use of the following operators using an example:**\n",
    "#### (i) /\n",
    "#### (ii) %\n",
    "#### (iii) //\n",
    "#### (iv) **"
   ]
  },
  {
   "cell_type": "markdown",
   "id": "6b4e9374-6a6f-4588-b8de-abe94a4f874a",
   "metadata": {
    "tags": []
   },
   "source": [
    "### Ans\n",
    "#### (i) \"/\" It is used to divide two numbers and it returns the quotient in floating point. Ex 4 / 5 = 0.8.\n",
    "#### (ii) \"%\" It returns the remainder of two mumbers. Ex 7 % 2 = 1\n",
    "#### (iii) \"//\" It returns the floor value of the quotient on dividing two numbers. Ex 4 / 3 = 1\n",
    "#### (iv) \"**\" It is used to rise the power of a number. EX 2 ** 3 = 2 to the power of 3 = 8\n",
    "\n",
    "\n",
    "\n"
   ]
  },
  {
   "cell_type": "markdown",
   "id": "f3dd78ce-6ba1-47a7-9cdf-1d3eabaaa603",
   "metadata": {},
   "source": [
    "#### **Q4. Create a list of length 10 of your choice containing multiple types of data. Using for loop print**\n",
    "#### **the element and its data type.**\n",
    "\n",
    "\n"
   ]
  },
  {
   "cell_type": "code",
   "execution_count": null,
   "id": "eeb509e5-c003-411d-9b8c-6e1cc399da8a",
   "metadata": {},
   "outputs": [],
   "source": [
    "l = [1,2,3,56.78,3+4j,[4,'d'],\"pw\",True,35,(1,\"my typple\",10)]\n",
    "for i in l:\n",
    "    print(i,\" \",type(i))"
   ]
  },
  {
   "cell_type": "markdown",
   "id": "267fdd3b-cef6-4e55-b60d-c8ae425e6803",
   "metadata": {},
   "source": [
    "#### **Q5. Using a while loop, verify if the number A is purely divisible by number B and if so then how** \n",
    "#### **many times it can be divisible.**"
   ]
  },
  {
   "cell_type": "code",
   "execution_count": null,
   "id": "c02c66f8-793e-4bab-9ef6-69260e9027d0",
   "metadata": {},
   "outputs": [],
   "source": [
    "A = int(input(\"Enter the value of A\"))\n",
    "B = int(input(\"Enter the value of B\"))\n",
    "count = 0\n",
    "while (A%B==0):\n",
    "    A = A / B\n",
    "    count += 1\n",
    "count"
   ]
  },
  {
   "cell_type": "markdown",
   "id": "cc2206c4-4f82-46a5-87ad-46d25648a44e",
   "metadata": {},
   "source": [
    "### **Q6. Create a list containing 25 int type data. Using for loop and if-else condition**\n",
    "### **print if the element is divisible by 3 or not.**"
   ]
  },
  {
   "cell_type": "code",
   "execution_count": null,
   "id": "e8f3986a-9454-438a-93c0-70f634104621",
   "metadata": {},
   "outputs": [],
   "source": [
    "l = [1,2,3,4,5,6,7,8,9,0,11,12,13,14,15,16,17,18,19,20,21,22,23,24,25]\n",
    "for i in l:\n",
    "    if(i%3==0):\n",
    "        print(i)"
   ]
  },
  {
   "cell_type": "markdown",
   "id": "dc2a8c55-54bf-400c-a905-3c799c83e9d2",
   "metadata": {},
   "source": [
    "#### **Q7. What do you understand about mutable and immutable data types? Give examples for both**\n",
    "#### **showing this property.**\n",
    " "
   ]
  },
  {
   "cell_type": "markdown",
   "id": "76648b8a-bd5f-4f0f-a8ab-64747b02706f",
   "metadata": {},
   "source": [
    "### Ans\n",
    "\n",
    "#### A mutable data type is one whose value can be changed after an object of that type has been created \n",
    "#### which means we can modify/change the elemnt in the varible at any particular index\n",
    "#### Ex: list data type\n",
    "#### l = [1,5.6,True,\"python\",10+9j]\n",
    "#### l[1] = 2 #we can change the value of the list at a praticular index, previous value at l[1] was 5.6 now it's 2\n",
    "\n",
    "\n",
    "\n",
    "\n",
    "\n",
    "\n",
    "\n",
    "\n",
    "\n",
    "\n",
    "\n",
    "\n",
    "#### An immutable data type is one whose value cannot be changed after an object of that type has been\n",
    "#### created which means we cannot modify/change the elemnt in the varibale at any particular index, \n",
    "#### in oreder to change the value we'll have to assign a new value to the variable.\n",
    "#### Ex: String data type\n",
    "#### a = 'arth'\n",
    "#### a[1] = 'n' #On execution the console will show \"TypeError: 'str' object does not support item assignment\"\n",
    "#### a = 'anth' #In order to modify the variable we need to a assign a new value to the complete varibale\n"
   ]
  }
 ],
 "metadata": {
  "kernelspec": {
   "display_name": "Python 3 (ipykernel)",
   "language": "python",
   "name": "python3"
  },
  "language_info": {
   "codemirror_mode": {
    "name": "ipython",
    "version": 3
   },
   "file_extension": ".py",
   "mimetype": "text/x-python",
   "name": "python",
   "nbconvert_exporter": "python",
   "pygments_lexer": "ipython3",
   "version": "3.10.8"
  }
 },
 "nbformat": 4,
 "nbformat_minor": 5
}
